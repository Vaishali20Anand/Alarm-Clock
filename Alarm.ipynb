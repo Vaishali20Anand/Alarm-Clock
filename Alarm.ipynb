{
 "cells": [
  {
   "cell_type": "code",
   "execution_count": 1,
   "metadata": {},
   "outputs": [],
   "source": [
    "from tkinter import *\n",
    "import datetime\n",
    "import time\n",
    "import winsound"
   ]
  },
  {
   "cell_type": "code",
   "execution_count": 2,
   "metadata": {},
   "outputs": [],
   "source": [
    "def alarm(set_alarm_timer):\n",
    "    while True:\n",
    "        time.sleep(1)\n",
    "        current_time = datetime.datetime.now()\n",
    "        now = current_time.strftime(\"%H:%M:%S\")\n",
    "        date = current_time.strftime(\"%d/%m/%Y\")\n",
    "        print(\"The Set Date is:\",date)\n",
    "        print(now)\n",
    "        if now == set_alarm_timer:\n",
    "            print(\"Time to Wake up\")\n",
    "            winsound.PlaySound(\"sound.wav\",winsound.SND_ASYNC)\n",
    "            break\n",
    "\n",
    "def actual_time():\n",
    "    set_alarm_timer = f\"{hour.get()}:{min.get()}:{sec.get()}\"\n",
    "    alarm(set_alarm_timer)"
   ]
  },
  {
   "cell_type": "code",
   "execution_count": null,
   "metadata": {},
   "outputs": [
    {
     "name": "stdout",
     "output_type": "stream",
     "text": [
      "The Set Date is: 23/08/2020\n",
      "19:47:41\n",
      "The Set Date is: 23/08/2020\n",
      "19:47:42\n",
      "The Set Date is: 23/08/2020\n",
      "19:47:43\n",
      "The Set Date is: 23/08/2020\n",
      "19:47:44\n",
      "The Set Date is: 23/08/2020\n",
      "19:47:45\n",
      "The Set Date is: 23/08/2020\n",
      "19:47:46\n",
      "The Set Date is: 23/08/2020\n",
      "19:47:47\n",
      "The Set Date is: 23/08/2020\n",
      "19:47:48\n",
      "The Set Date is: 23/08/2020\n",
      "19:47:49\n",
      "The Set Date is: 23/08/2020\n",
      "19:47:50\n",
      "The Set Date is: 23/08/2020\n",
      "19:47:51\n",
      "The Set Date is: 23/08/2020\n",
      "19:47:52\n",
      "The Set Date is: 23/08/2020\n",
      "19:47:53\n",
      "The Set Date is: 23/08/2020\n",
      "19:47:54\n",
      "The Set Date is: 23/08/2020\n",
      "19:47:55\n",
      "The Set Date is: 23/08/2020\n",
      "19:47:56\n",
      "The Set Date is: 23/08/2020\n",
      "19:47:57\n",
      "The Set Date is: 23/08/2020\n",
      "19:47:58\n",
      "The Set Date is: 23/08/2020\n",
      "19:47:59\n",
      "The Set Date is: 23/08/2020\n",
      "19:48:00\n",
      "The Set Date is: 23/08/2020\n",
      "19:48:01\n",
      "The Set Date is: 23/08/2020\n",
      "19:48:02\n",
      "The Set Date is: 23/08/2020\n",
      "19:48:03\n",
      "The Set Date is: 23/08/2020\n",
      "19:48:04\n",
      "The Set Date is: 23/08/2020\n",
      "19:48:05\n",
      "Time to Wake up\n"
     ]
    }
   ],
   "source": [
    "clock = Tk()\n",
    "clock.title(\"Alarm Clock\")\n",
    "clock.geometry(\"400x200\")\n",
    "\n",
    "time_format=Label(clock, text= \"Enter time in 24 hour format!\", fg=\"red\",bg=\"yellow\",font=\"Arial\").place(x=60,y=120)\n",
    "addTime = Label(clock,text = \"Hour Min Sec\",font=60).place(x = 110)\n",
    "\n",
    "setYourAlarm = Label(clock,text = \"When to wake you up\",fg=\"blue\",font=(\"Helevetica\",7,\"bold\")).place(x=0, y=29)\n",
    "\n",
    "# The Variables we require to set the alarm(initialization):\n",
    "hour = StringVar()\n",
    "min = StringVar()\n",
    "sec = StringVar()\n",
    "\n",
    "#Time required to set the alarm clock:\n",
    "hourTime= Entry(clock,textvariable = hour,bg = \"pink\",width = 15).place(x=110,y=30)\n",
    "minTime= Entry(clock,textvariable = min,bg = \"pink\",width = 15).place(x=150,y=30)\n",
    "secTime = Entry(clock,textvariable = sec,bg = \"pink\",width = 15).place(x=200,y=30)\n",
    "\n",
    "#To take the time input by user:\n",
    "submit = Button(clock,text = \"Set Alarm\",fg=\"red\",width = 10,command = actual_time).place(x =110,y=70)\n",
    "\n",
    "clock.mainloop()\n",
    "#Execution of the window."
   ]
  },
  {
   "cell_type": "code",
   "execution_count": null,
   "metadata": {},
   "outputs": [],
   "source": []
  }
 ],
 "metadata": {
  "kernelspec": {
   "display_name": "Python 3",
   "language": "python",
   "name": "python3"
  },
  "language_info": {
   "codemirror_mode": {
    "name": "ipython",
    "version": 3
   },
   "file_extension": ".py",
   "mimetype": "text/x-python",
   "name": "python",
   "nbconvert_exporter": "python",
   "pygments_lexer": "ipython3",
   "version": "3.8.3"
  }
 },
 "nbformat": 4,
 "nbformat_minor": 4
}
